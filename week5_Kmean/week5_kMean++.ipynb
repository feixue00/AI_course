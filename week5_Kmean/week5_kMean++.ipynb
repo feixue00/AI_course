{
 "cells": [
  {
   "cell_type": "markdown",
   "metadata": {},
   "source": [
    "## kmean 无监督分类"
   ]
  },
  {
   "cell_type": "markdown",
   "metadata": {},
   "source": [
    "1、随机选取几个点作为质点"
   ]
  },
  {
   "cell_type": "markdown",
   "metadata": {},
   "source": [
    "2、根据这几个质点分类：数据样本距离哪个质点进，就分到哪个质点的类"
   ]
  },
  {
   "cell_type": "markdown",
   "metadata": {},
   "source": [
    "3、根据最新的分类，重新计算质点"
   ]
  },
  {
   "cell_type": "markdown",
   "metadata": {},
   "source": [
    "4、重复2-3，直至质点不再改变，结束。"
   ]
  },
  {
   "cell_type": "markdown",
   "metadata": {},
   "source": [
    "dict的key和pd.DataFrame的label/column，可以是数字，也可以是字符！！"
   ]
  },
  {
   "cell_type": "code",
   "execution_count": 35,
   "metadata": {},
   "outputs": [],
   "source": [
    "import pandas as pd\n",
    "import numpy as np\n",
    "import matplotlib.pyplot as plt\n",
    "import cv2"
   ]
  },
  {
   "cell_type": "markdown",
   "metadata": {},
   "source": [
    "#### 对<数据集>中的样本进行分类：数据样本距离哪个质点近，就分到哪个质点的类。先求距离再分类。距离用三个columns（ID为distance_from_i）保存；分类结果用一个column（ID为closest）保存。"
   ]
  },
  {
   "cell_type": "code",
   "execution_count": 181,
   "metadata": {},
   "outputs": [],
   "source": [
    "def next_centroids(df,centroids,m):\n",
    "    df['distance_from_{}'.format(m)] = np.sqrt(  (df['x']-centroids[0][0])**2 + (df['y']-centroids[0][1])**2  )\n",
    "    if m>1:\n",
    "        for i in range(m-1):   \n",
    "            df['distance_from_{}'.format(m)] = df['distance_from_{}'.format(m)] + np.sqrt(  (df['x']-centroids[i+1][0])**2 + (df['y']-centroids[i+1][1])**2  ) \n",
    "    \n",
    "    df['dp_from_{}'.format(m)]=df['distance_from_{}'.format(m)]/df['distance_from_{}'.format(m)].sum()\n",
    "    probability_acc = 0\n",
    "    probability_random = np.random.rand()\n",
    "    j = 0\n",
    "    print('point {0} of probability_random is {1}'.format(m,probability_random))\n",
    "    \n",
    "    for i in range(len(df.loc[:,'x'])):\n",
    "        probability_acc += df.loc[i,'dp_from_{}'.format(m)]\n",
    "        if ( probability_acc>probability_random ):\n",
    "            if i==0:\n",
    "                j = 0\n",
    "            else:\n",
    "                j = i-1\n",
    "            break\n",
    "    \n",
    "    return df.loc[j,'x':'y']"
   ]
  },
  {
   "cell_type": "code",
   "execution_count": 146,
   "metadata": {},
   "outputs": [],
   "source": [
    "def init_centroids(df,k):\n",
    "    centroids = {i:[0,0] for i in range(k)}\n",
    "    centroids[0]=[np.random.randint(0,80),np.random.randint(0,80)]\n",
    "      \n",
    "    if k<2:\n",
    "        return centroids\n",
    "    else:\n",
    "        for i in range(k-1):\n",
    "            centroids[i+1]=next_centroids(df,centroids,i+1)    \n",
    "    print(df)\n",
    "    return centroids    "
   ]
  },
  {
   "cell_type": "code",
   "execution_count": 140,
   "metadata": {},
   "outputs": [],
   "source": [
    "def assignment(df,centroids,colmap):    \n",
    "    # 为每个质点创建一个column，用来存储与每个样本点的距离\n",
    "    # 两点之间的距离：sqrt((x1 - x2)^2 + (y1 - y2)^2)\n",
    "    for i in centroids.keys():\n",
    "        df['distance_from_{}'.format(i)]=(\n",
    "            np.sqrt(  \n",
    "            (df['x']-centroids[i][0])**2 + (df['y']-centroids[i][1])**2  \n",
    "            )\n",
    "        )\n",
    "    #用一个list来保存上面新建的三个column ID\n",
    "    distance_from_centroid_id = ['distance_from_{}'.format(i) for i in centroids.keys()]\n",
    "    #.idxmin(axis=1)函数是找到label中最小元素，并返回最小元素对应的column ID\n",
    "    #对上面的20行三列,分别对每行求找最小值，然后记录这个最小值的column ID。\n",
    "    df['closest'] = df.loc[:,distance_from_centroid_id].idxmin(axis=1)\n",
    "    #.lstrip():left strip\n",
    "    df['closest'] = df['closest'].map(lambda x:int(x.lstrip('distance_frome_')))\n",
    "    df['color'] = df['closest'].map(lambda x:colmap[x]) #colmap = {0:'r',1:'g',2:'b'}\n",
    "    #print(df)\n",
    "    return df"
   ]
  },
  {
   "cell_type": "markdown",
   "metadata": {},
   "source": [
    "#### 根据最新的分类，重新计算质点"
   ]
  },
  {
   "cell_type": "code",
   "execution_count": 141,
   "metadata": {},
   "outputs": [],
   "source": [
    "def updata(df,centroids):\n",
    "    #对当前质点的聚类求平均，得到最新的质点\n",
    "    for i in centroids.keys():\n",
    "        centroids[i][0]=np.mean(df[df['closest']==i]['x'])\n",
    "        centroids[i][1]=np.mean(df[df['closest']==i]['y'])\n",
    "    return centroids"
   ]
  },
  {
   "cell_type": "markdown",
   "metadata": {},
   "source": [
    "#### main函数，定义数据集（pd.DataFrame），随机选三个点(dict)，然后迭代"
   ]
  },
  {
   "cell_type": "code",
   "execution_count": 142,
   "metadata": {},
   "outputs": [],
   "source": [
    "def main():\n",
    "    #用字典定义数据集\n",
    "    df = pd.DataFrame({\n",
    "        'x':[12, 20, 28, 18, 10, 29, 33, 24, 45, 45, 52, 51, 52, 55, 53, 55, 61, 64, 69, 72, 23],\n",
    "        'y':[39, 36, 30, 52, 54, 20, 46, 55, 59, 63, 70, 66, 63, 58, 23, 14,  8, 19,  7, 24, 77]\n",
    "    })\n",
    "    #随机选取k个点作为质点,用不同的颜色显示这k个点\n",
    "    k = 3\n",
    "    centroids=init_centroids(df,k)\n",
    "    colmap = {0:'r',1:'g',2:'b'}\n",
    "    #第一次聚类,并画图显示\n",
    "    df = assignment(df,centroids,colmap)\n",
    "    plt.scatter(df['x'],df['y'],color=df['color'],alpha=0.5,edgecolor='k')\n",
    "    for i in centroids.keys():\n",
    "        plt.scatter(*centroids[i],color=colmap[i],linewidths=6)\n",
    "    plt.xlim(0,80)\n",
    "    plt.ylim(0,80)\n",
    "    plt.show()\n",
    "    #进行迭代\n",
    "    for i in range(10):\n",
    "        print(i)\n",
    "        key = cv2.waitKey()\n",
    "        plt.close()\n",
    "        #先保存之前的聚类结果，然后再更新到最新的分类结果，然后计算新的质点\n",
    "        closest_centroids = df['closest'].copy(deep=True)\n",
    "        centroids = updata(df,centroids)\n",
    "        \n",
    "        plt.scatter(df['x'],df['y'],color=df['color'],alpha=0.5,edgecolor='k')\n",
    "        for i in centroids.keys():\n",
    "            plt.scatter(*centroids[i],color=colmap[i],linewidth=6)\n",
    "        plt.xlim(0,80)\n",
    "        plt.ylim(0,80)\n",
    "        plt.show()\n",
    "        #再一次聚类，跟保存的聚类结果进行比较\n",
    "        df = assignment(df,centroids,colmap)\n",
    "        if closest_centroids.equals(df['closest']):\n",
    "            break\n",
    "        "
   ]
  },
  {
   "cell_type": "code",
   "execution_count": 182,
   "metadata": {},
   "outputs": [
    {
     "name": "stdout",
     "output_type": "stream",
     "text": [
      "point 1 of probability_random is 0.7831532834763076\n",
      "13\n",
      "point 2 of probability_random is 0.2299841462107287\n",
      "3\n",
      "     x   y  distance_from_1  dp_from_1  distance_from_2  dp_from_2\n",
      "0   12  39        52.697249   0.062394        99.344864   0.065703\n",
      "1   20  36        44.407207   0.052579        86.276049   0.057060\n",
      "2   28  30        34.409301   0.040741        75.213713   0.049744\n",
      "3   18  52        56.639209   0.067062        92.374346   0.061093\n",
      "4   10  54        63.655322   0.075369       106.608785   0.070507\n",
      "5   29  20        28.792360   0.034091        77.557101   0.051293\n",
      "6   33  46        42.720019   0.050581        68.215116   0.045115\n",
      "7   24  55        55.217751   0.065379        84.338190   0.055778\n",
      "8   45  59        50.219518   0.059461        58.281776   0.038545\n",
      "9   45  63        54.129474   0.064090        61.129474   0.040429\n",
      "10  52  70        60.133186   0.071199        67.133186   0.044399\n",
      "11  51  66        56.222771   0.066569        59.385049   0.039275\n",
      "12  52  63        53.150729   0.062931        53.150729   0.035152\n",
      "13  55  58        48.010416   0.056845        53.841367   0.035609\n",
      "14  53  23        13.341664   0.015797        53.354162   0.035287\n",
      "15  55  14         4.123106   0.004882        53.214856   0.035194\n",
      "16  61   8         5.385165   0.006376        61.116664   0.040420\n",
      "17  64  19        12.041595   0.014257        57.648612   0.038127\n",
      "18  69   7        13.341664   0.015797        71.865164   0.047529\n",
      "19  72  24        21.260292   0.025173        65.089506   0.043048\n",
      "20  23  77        74.686009   0.088429       106.888494   0.070692\n"
     ]
    },
    {
     "data": {
      "image/png": "[encoded data removed]",
      "text/plain": [
       "<Figure size 432x288 with 1 Axes>"
      ]
     },
     "metadata": {
      "needs_background": "light"
     },
     "output_type": "display_data"
    },
    {
     "name": "stdout",
     "output_type": "stream",
     "text": [
      "0\n"
     ]
    },
    {
     "data": {
      "image/png": "[encoded data removed]",
      "text/plain": [
       "<Figure size 432x288 with 1 Axes>"
      ]
     },
     "metadata": {
      "needs_background": "light"
     },
     "output_type": "display_data"
    }
   ],
   "source": [
    "if __name__ == '__main__':\n",
    "    main()"
   ]
  },
  {
   "cell_type": "code",
   "execution_count": null,
   "metadata": {},
   "outputs": [],
   "source": []
  },
  {
   "cell_type": "code",
   "execution_count": null,
   "metadata": {},
   "outputs": [],
   "source": []
  },
  {
   "cell_type": "code",
   "execution_count": null,
   "metadata": {},
   "outputs": [],
   "source": []
  },
  {
   "cell_type": "code",
   "execution_count": null,
   "metadata": {},
   "outputs": [],
   "source": []
  },
  {
   "cell_type": "code",
   "execution_count": null,
   "metadata": {},
   "outputs": [],
   "source": []
  },
  {
   "cell_type": "code",
   "execution_count": null,
   "metadata": {},
   "outputs": [],
   "source": []
  }
 ],
 "metadata": {
  "kernelspec": {
   "display_name": "Python 3",
   "language": "python",
   "name": "python3"
  },
  "language_info": {
   "codemirror_mode": {
    "name": "ipython",
    "version": 3
   },
   "file_extension": ".py",
   "mimetype": "text/x-python",
   "name": "python",
   "nbconvert_exporter": "python",
   "pygments_lexer": "ipython3",
   "version": "3.6.5"
  }
 },
 "nbformat": 4,
 "nbformat_minor": 2
}
